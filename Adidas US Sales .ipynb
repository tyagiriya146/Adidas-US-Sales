{
 "cells": [
  {
   "cell_type": "markdown",
   "id": "f0456f6e",
   "metadata": {},
   "source": [
    "## Data Description:"
   ]
  },
  {
   "cell_type": "markdown",
   "id": "3a227d30",
   "metadata": {},
   "source": [
    "This is internal data from the Adidas company.This data set presents us with the following information: Retail, retail id, invoice data, region, state, city, product, price per unit, units sold, total sales, operating profit, operating margin, and sales method."
   ]
  },
  {
   "cell_type": "markdown",
   "id": "c5f8406a",
   "metadata": {},
   "source": [
    "#####  Import libraries and alias for easy reading"
   ]
  },
  {
   "cell_type": "code",
   "execution_count": 1,
   "id": "50d477a9",
   "metadata": {},
   "outputs": [],
   "source": [
    "import pandas as pd\n",
    "import seaborn as sns\n",
    "import matplotlib.pyplot as plt\n",
    "import numpy as np"
   ]
  },
  {
   "cell_type": "markdown",
   "id": "42c9e795",
   "metadata": {},
   "source": [
    "##### Reading the data"
   ]
  },
  {
   "cell_type": "code",
   "execution_count": 2,
   "id": "e45d55b8",
   "metadata": {},
   "outputs": [],
   "source": [
    "df = pd.read_excel(r'C:\\Users\\DELL\\Downloads\\Adidas US Sales Datasets.xlsx',skiprows = 4)"
   ]
  },
  {
   "cell_type": "code",
   "execution_count": 3,
   "id": "aa92d74a",
   "metadata": {},
   "outputs": [
    {
     "data": {
      "text/html": [
       "<div>\n",
       "<style scoped>\n",
       "    .dataframe tbody tr th:only-of-type {\n",
       "        vertical-align: middle;\n",
       "    }\n",
       "\n",
       "    .dataframe tbody tr th {\n",
       "        vertical-align: top;\n",
       "    }\n",
       "\n",
       "    .dataframe thead th {\n",
       "        text-align: right;\n",
       "    }\n",
       "</style>\n",
       "<table border=\"1\" class=\"dataframe\">\n",
       "  <thead>\n",
       "    <tr style=\"text-align: right;\">\n",
       "      <th></th>\n",
       "      <th>Unnamed: 0</th>\n",
       "      <th>Retailer</th>\n",
       "      <th>Retailer ID</th>\n",
       "      <th>Invoice Date</th>\n",
       "      <th>Region</th>\n",
       "      <th>State</th>\n",
       "      <th>City</th>\n",
       "      <th>Product</th>\n",
       "      <th>Price per Unit</th>\n",
       "      <th>Units Sold</th>\n",
       "      <th>Total Sales</th>\n",
       "      <th>Operating Profit</th>\n",
       "      <th>Operating Margin</th>\n",
       "      <th>Sales Method</th>\n",
       "    </tr>\n",
       "  </thead>\n",
       "  <tbody>\n",
       "    <tr>\n",
       "      <th>0</th>\n",
       "      <td>NaN</td>\n",
       "      <td>Foot Locker</td>\n",
       "      <td>1185732</td>\n",
       "      <td>2020-01-01</td>\n",
       "      <td>Northeast</td>\n",
       "      <td>New York</td>\n",
       "      <td>New York</td>\n",
       "      <td>Men's Street Footwear</td>\n",
       "      <td>50.0</td>\n",
       "      <td>1200</td>\n",
       "      <td>600000.0</td>\n",
       "      <td>300000.00</td>\n",
       "      <td>0.50</td>\n",
       "      <td>In-store</td>\n",
       "    </tr>\n",
       "    <tr>\n",
       "      <th>1</th>\n",
       "      <td>NaN</td>\n",
       "      <td>Foot Locker</td>\n",
       "      <td>1185732</td>\n",
       "      <td>2020-01-02</td>\n",
       "      <td>Northeast</td>\n",
       "      <td>New York</td>\n",
       "      <td>New York</td>\n",
       "      <td>Men's Athletic Footwear</td>\n",
       "      <td>50.0</td>\n",
       "      <td>1000</td>\n",
       "      <td>500000.0</td>\n",
       "      <td>150000.00</td>\n",
       "      <td>0.30</td>\n",
       "      <td>In-store</td>\n",
       "    </tr>\n",
       "    <tr>\n",
       "      <th>2</th>\n",
       "      <td>NaN</td>\n",
       "      <td>Foot Locker</td>\n",
       "      <td>1185732</td>\n",
       "      <td>2020-01-03</td>\n",
       "      <td>Northeast</td>\n",
       "      <td>New York</td>\n",
       "      <td>New York</td>\n",
       "      <td>Women's Street Footwear</td>\n",
       "      <td>40.0</td>\n",
       "      <td>1000</td>\n",
       "      <td>400000.0</td>\n",
       "      <td>140000.00</td>\n",
       "      <td>0.35</td>\n",
       "      <td>In-store</td>\n",
       "    </tr>\n",
       "    <tr>\n",
       "      <th>3</th>\n",
       "      <td>NaN</td>\n",
       "      <td>Foot Locker</td>\n",
       "      <td>1185732</td>\n",
       "      <td>2020-01-04</td>\n",
       "      <td>Northeast</td>\n",
       "      <td>New York</td>\n",
       "      <td>New York</td>\n",
       "      <td>Women's Athletic Footwear</td>\n",
       "      <td>45.0</td>\n",
       "      <td>850</td>\n",
       "      <td>382500.0</td>\n",
       "      <td>133875.00</td>\n",
       "      <td>0.35</td>\n",
       "      <td>In-store</td>\n",
       "    </tr>\n",
       "    <tr>\n",
       "      <th>4</th>\n",
       "      <td>NaN</td>\n",
       "      <td>Foot Locker</td>\n",
       "      <td>1185732</td>\n",
       "      <td>2020-01-05</td>\n",
       "      <td>Northeast</td>\n",
       "      <td>New York</td>\n",
       "      <td>New York</td>\n",
       "      <td>Men's Apparel</td>\n",
       "      <td>60.0</td>\n",
       "      <td>900</td>\n",
       "      <td>540000.0</td>\n",
       "      <td>162000.00</td>\n",
       "      <td>0.30</td>\n",
       "      <td>In-store</td>\n",
       "    </tr>\n",
       "    <tr>\n",
       "      <th>...</th>\n",
       "      <td>...</td>\n",
       "      <td>...</td>\n",
       "      <td>...</td>\n",
       "      <td>...</td>\n",
       "      <td>...</td>\n",
       "      <td>...</td>\n",
       "      <td>...</td>\n",
       "      <td>...</td>\n",
       "      <td>...</td>\n",
       "      <td>...</td>\n",
       "      <td>...</td>\n",
       "      <td>...</td>\n",
       "      <td>...</td>\n",
       "      <td>...</td>\n",
       "    </tr>\n",
       "    <tr>\n",
       "      <th>9643</th>\n",
       "      <td>NaN</td>\n",
       "      <td>Foot Locker</td>\n",
       "      <td>1185732</td>\n",
       "      <td>2021-01-24</td>\n",
       "      <td>Northeast</td>\n",
       "      <td>New Hampshire</td>\n",
       "      <td>Manchester</td>\n",
       "      <td>Men's Apparel</td>\n",
       "      <td>50.0</td>\n",
       "      <td>64</td>\n",
       "      <td>3200.0</td>\n",
       "      <td>896.00</td>\n",
       "      <td>0.28</td>\n",
       "      <td>Outlet</td>\n",
       "    </tr>\n",
       "    <tr>\n",
       "      <th>9644</th>\n",
       "      <td>NaN</td>\n",
       "      <td>Foot Locker</td>\n",
       "      <td>1185732</td>\n",
       "      <td>2021-01-24</td>\n",
       "      <td>Northeast</td>\n",
       "      <td>New Hampshire</td>\n",
       "      <td>Manchester</td>\n",
       "      <td>Women's Apparel</td>\n",
       "      <td>41.0</td>\n",
       "      <td>105</td>\n",
       "      <td>4305.0</td>\n",
       "      <td>1377.60</td>\n",
       "      <td>0.32</td>\n",
       "      <td>Outlet</td>\n",
       "    </tr>\n",
       "    <tr>\n",
       "      <th>9645</th>\n",
       "      <td>NaN</td>\n",
       "      <td>Foot Locker</td>\n",
       "      <td>1185732</td>\n",
       "      <td>2021-02-22</td>\n",
       "      <td>Northeast</td>\n",
       "      <td>New Hampshire</td>\n",
       "      <td>Manchester</td>\n",
       "      <td>Men's Street Footwear</td>\n",
       "      <td>41.0</td>\n",
       "      <td>184</td>\n",
       "      <td>7544.0</td>\n",
       "      <td>2791.28</td>\n",
       "      <td>0.37</td>\n",
       "      <td>Outlet</td>\n",
       "    </tr>\n",
       "    <tr>\n",
       "      <th>9646</th>\n",
       "      <td>NaN</td>\n",
       "      <td>Foot Locker</td>\n",
       "      <td>1185732</td>\n",
       "      <td>2021-02-22</td>\n",
       "      <td>Northeast</td>\n",
       "      <td>New Hampshire</td>\n",
       "      <td>Manchester</td>\n",
       "      <td>Men's Athletic Footwear</td>\n",
       "      <td>42.0</td>\n",
       "      <td>70</td>\n",
       "      <td>2940.0</td>\n",
       "      <td>1234.80</td>\n",
       "      <td>0.42</td>\n",
       "      <td>Outlet</td>\n",
       "    </tr>\n",
       "    <tr>\n",
       "      <th>9647</th>\n",
       "      <td>NaN</td>\n",
       "      <td>Foot Locker</td>\n",
       "      <td>1185732</td>\n",
       "      <td>2021-02-22</td>\n",
       "      <td>Northeast</td>\n",
       "      <td>New Hampshire</td>\n",
       "      <td>Manchester</td>\n",
       "      <td>Women's Street Footwear</td>\n",
       "      <td>29.0</td>\n",
       "      <td>83</td>\n",
       "      <td>2407.0</td>\n",
       "      <td>649.89</td>\n",
       "      <td>0.27</td>\n",
       "      <td>Outlet</td>\n",
       "    </tr>\n",
       "  </tbody>\n",
       "</table>\n",
       "<p>9648 rows × 14 columns</p>\n",
       "</div>"
      ],
      "text/plain": [
       "      Unnamed: 0     Retailer  Retailer ID Invoice Date     Region  \\\n",
       "0            NaN  Foot Locker      1185732   2020-01-01  Northeast   \n",
       "1            NaN  Foot Locker      1185732   2020-01-02  Northeast   \n",
       "2            NaN  Foot Locker      1185732   2020-01-03  Northeast   \n",
       "3            NaN  Foot Locker      1185732   2020-01-04  Northeast   \n",
       "4            NaN  Foot Locker      1185732   2020-01-05  Northeast   \n",
       "...          ...          ...          ...          ...        ...   \n",
       "9643         NaN  Foot Locker      1185732   2021-01-24  Northeast   \n",
       "9644         NaN  Foot Locker      1185732   2021-01-24  Northeast   \n",
       "9645         NaN  Foot Locker      1185732   2021-02-22  Northeast   \n",
       "9646         NaN  Foot Locker      1185732   2021-02-22  Northeast   \n",
       "9647         NaN  Foot Locker      1185732   2021-02-22  Northeast   \n",
       "\n",
       "              State        City                    Product  Price per Unit  \\\n",
       "0          New York    New York      Men's Street Footwear            50.0   \n",
       "1          New York    New York    Men's Athletic Footwear            50.0   \n",
       "2          New York    New York    Women's Street Footwear            40.0   \n",
       "3          New York    New York  Women's Athletic Footwear            45.0   \n",
       "4          New York    New York              Men's Apparel            60.0   \n",
       "...             ...         ...                        ...             ...   \n",
       "9643  New Hampshire  Manchester              Men's Apparel            50.0   \n",
       "9644  New Hampshire  Manchester            Women's Apparel            41.0   \n",
       "9645  New Hampshire  Manchester      Men's Street Footwear            41.0   \n",
       "9646  New Hampshire  Manchester    Men's Athletic Footwear            42.0   \n",
       "9647  New Hampshire  Manchester    Women's Street Footwear            29.0   \n",
       "\n",
       "      Units Sold  Total Sales  Operating Profit  Operating Margin Sales Method  \n",
       "0           1200     600000.0         300000.00              0.50     In-store  \n",
       "1           1000     500000.0         150000.00              0.30     In-store  \n",
       "2           1000     400000.0         140000.00              0.35     In-store  \n",
       "3            850     382500.0         133875.00              0.35     In-store  \n",
       "4            900     540000.0         162000.00              0.30     In-store  \n",
       "...          ...          ...               ...               ...          ...  \n",
       "9643          64       3200.0            896.00              0.28       Outlet  \n",
       "9644         105       4305.0           1377.60              0.32       Outlet  \n",
       "9645         184       7544.0           2791.28              0.37       Outlet  \n",
       "9646          70       2940.0           1234.80              0.42       Outlet  \n",
       "9647          83       2407.0            649.89              0.27       Outlet  \n",
       "\n",
       "[9648 rows x 14 columns]"
      ]
     },
     "execution_count": 3,
     "metadata": {},
     "output_type": "execute_result"
    }
   ],
   "source": [
    "df"
   ]
  },
  {
   "cell_type": "code",
   "execution_count": 4,
   "id": "fe2d3323",
   "metadata": {},
   "outputs": [],
   "source": [
    "df.drop(\"Unnamed: 0\", axis = 1,inplace = True )"
   ]
  },
  {
   "cell_type": "code",
   "execution_count": 5,
   "id": "c3d8debb",
   "metadata": {},
   "outputs": [
    {
     "data": {
      "text/html": [
       "<div>\n",
       "<style scoped>\n",
       "    .dataframe tbody tr th:only-of-type {\n",
       "        vertical-align: middle;\n",
       "    }\n",
       "\n",
       "    .dataframe tbody tr th {\n",
       "        vertical-align: top;\n",
       "    }\n",
       "\n",
       "    .dataframe thead th {\n",
       "        text-align: right;\n",
       "    }\n",
       "</style>\n",
       "<table border=\"1\" class=\"dataframe\">\n",
       "  <thead>\n",
       "    <tr style=\"text-align: right;\">\n",
       "      <th></th>\n",
       "      <th>Retailer</th>\n",
       "      <th>Retailer ID</th>\n",
       "      <th>Invoice Date</th>\n",
       "      <th>Region</th>\n",
       "      <th>State</th>\n",
       "      <th>City</th>\n",
       "      <th>Product</th>\n",
       "      <th>Price per Unit</th>\n",
       "      <th>Units Sold</th>\n",
       "      <th>Total Sales</th>\n",
       "      <th>Operating Profit</th>\n",
       "      <th>Operating Margin</th>\n",
       "      <th>Sales Method</th>\n",
       "    </tr>\n",
       "  </thead>\n",
       "  <tbody>\n",
       "    <tr>\n",
       "      <th>0</th>\n",
       "      <td>Foot Locker</td>\n",
       "      <td>1185732</td>\n",
       "      <td>2020-01-01</td>\n",
       "      <td>Northeast</td>\n",
       "      <td>New York</td>\n",
       "      <td>New York</td>\n",
       "      <td>Men's Street Footwear</td>\n",
       "      <td>50.0</td>\n",
       "      <td>1200</td>\n",
       "      <td>600000.0</td>\n",
       "      <td>300000.00</td>\n",
       "      <td>0.50</td>\n",
       "      <td>In-store</td>\n",
       "    </tr>\n",
       "    <tr>\n",
       "      <th>1</th>\n",
       "      <td>Foot Locker</td>\n",
       "      <td>1185732</td>\n",
       "      <td>2020-01-02</td>\n",
       "      <td>Northeast</td>\n",
       "      <td>New York</td>\n",
       "      <td>New York</td>\n",
       "      <td>Men's Athletic Footwear</td>\n",
       "      <td>50.0</td>\n",
       "      <td>1000</td>\n",
       "      <td>500000.0</td>\n",
       "      <td>150000.00</td>\n",
       "      <td>0.30</td>\n",
       "      <td>In-store</td>\n",
       "    </tr>\n",
       "    <tr>\n",
       "      <th>2</th>\n",
       "      <td>Foot Locker</td>\n",
       "      <td>1185732</td>\n",
       "      <td>2020-01-03</td>\n",
       "      <td>Northeast</td>\n",
       "      <td>New York</td>\n",
       "      <td>New York</td>\n",
       "      <td>Women's Street Footwear</td>\n",
       "      <td>40.0</td>\n",
       "      <td>1000</td>\n",
       "      <td>400000.0</td>\n",
       "      <td>140000.00</td>\n",
       "      <td>0.35</td>\n",
       "      <td>In-store</td>\n",
       "    </tr>\n",
       "    <tr>\n",
       "      <th>3</th>\n",
       "      <td>Foot Locker</td>\n",
       "      <td>1185732</td>\n",
       "      <td>2020-01-04</td>\n",
       "      <td>Northeast</td>\n",
       "      <td>New York</td>\n",
       "      <td>New York</td>\n",
       "      <td>Women's Athletic Footwear</td>\n",
       "      <td>45.0</td>\n",
       "      <td>850</td>\n",
       "      <td>382500.0</td>\n",
       "      <td>133875.00</td>\n",
       "      <td>0.35</td>\n",
       "      <td>In-store</td>\n",
       "    </tr>\n",
       "    <tr>\n",
       "      <th>4</th>\n",
       "      <td>Foot Locker</td>\n",
       "      <td>1185732</td>\n",
       "      <td>2020-01-05</td>\n",
       "      <td>Northeast</td>\n",
       "      <td>New York</td>\n",
       "      <td>New York</td>\n",
       "      <td>Men's Apparel</td>\n",
       "      <td>60.0</td>\n",
       "      <td>900</td>\n",
       "      <td>540000.0</td>\n",
       "      <td>162000.00</td>\n",
       "      <td>0.30</td>\n",
       "      <td>In-store</td>\n",
       "    </tr>\n",
       "    <tr>\n",
       "      <th>...</th>\n",
       "      <td>...</td>\n",
       "      <td>...</td>\n",
       "      <td>...</td>\n",
       "      <td>...</td>\n",
       "      <td>...</td>\n",
       "      <td>...</td>\n",
       "      <td>...</td>\n",
       "      <td>...</td>\n",
       "      <td>...</td>\n",
       "      <td>...</td>\n",
       "      <td>...</td>\n",
       "      <td>...</td>\n",
       "      <td>...</td>\n",
       "    </tr>\n",
       "    <tr>\n",
       "      <th>9643</th>\n",
       "      <td>Foot Locker</td>\n",
       "      <td>1185732</td>\n",
       "      <td>2021-01-24</td>\n",
       "      <td>Northeast</td>\n",
       "      <td>New Hampshire</td>\n",
       "      <td>Manchester</td>\n",
       "      <td>Men's Apparel</td>\n",
       "      <td>50.0</td>\n",
       "      <td>64</td>\n",
       "      <td>3200.0</td>\n",
       "      <td>896.00</td>\n",
       "      <td>0.28</td>\n",
       "      <td>Outlet</td>\n",
       "    </tr>\n",
       "    <tr>\n",
       "      <th>9644</th>\n",
       "      <td>Foot Locker</td>\n",
       "      <td>1185732</td>\n",
       "      <td>2021-01-24</td>\n",
       "      <td>Northeast</td>\n",
       "      <td>New Hampshire</td>\n",
       "      <td>Manchester</td>\n",
       "      <td>Women's Apparel</td>\n",
       "      <td>41.0</td>\n",
       "      <td>105</td>\n",
       "      <td>4305.0</td>\n",
       "      <td>1377.60</td>\n",
       "      <td>0.32</td>\n",
       "      <td>Outlet</td>\n",
       "    </tr>\n",
       "    <tr>\n",
       "      <th>9645</th>\n",
       "      <td>Foot Locker</td>\n",
       "      <td>1185732</td>\n",
       "      <td>2021-02-22</td>\n",
       "      <td>Northeast</td>\n",
       "      <td>New Hampshire</td>\n",
       "      <td>Manchester</td>\n",
       "      <td>Men's Street Footwear</td>\n",
       "      <td>41.0</td>\n",
       "      <td>184</td>\n",
       "      <td>7544.0</td>\n",
       "      <td>2791.28</td>\n",
       "      <td>0.37</td>\n",
       "      <td>Outlet</td>\n",
       "    </tr>\n",
       "    <tr>\n",
       "      <th>9646</th>\n",
       "      <td>Foot Locker</td>\n",
       "      <td>1185732</td>\n",
       "      <td>2021-02-22</td>\n",
       "      <td>Northeast</td>\n",
       "      <td>New Hampshire</td>\n",
       "      <td>Manchester</td>\n",
       "      <td>Men's Athletic Footwear</td>\n",
       "      <td>42.0</td>\n",
       "      <td>70</td>\n",
       "      <td>2940.0</td>\n",
       "      <td>1234.80</td>\n",
       "      <td>0.42</td>\n",
       "      <td>Outlet</td>\n",
       "    </tr>\n",
       "    <tr>\n",
       "      <th>9647</th>\n",
       "      <td>Foot Locker</td>\n",
       "      <td>1185732</td>\n",
       "      <td>2021-02-22</td>\n",
       "      <td>Northeast</td>\n",
       "      <td>New Hampshire</td>\n",
       "      <td>Manchester</td>\n",
       "      <td>Women's Street Footwear</td>\n",
       "      <td>29.0</td>\n",
       "      <td>83</td>\n",
       "      <td>2407.0</td>\n",
       "      <td>649.89</td>\n",
       "      <td>0.27</td>\n",
       "      <td>Outlet</td>\n",
       "    </tr>\n",
       "  </tbody>\n",
       "</table>\n",
       "<p>9648 rows × 13 columns</p>\n",
       "</div>"
      ],
      "text/plain": [
       "         Retailer  Retailer ID Invoice Date     Region          State  \\\n",
       "0     Foot Locker      1185732   2020-01-01  Northeast       New York   \n",
       "1     Foot Locker      1185732   2020-01-02  Northeast       New York   \n",
       "2     Foot Locker      1185732   2020-01-03  Northeast       New York   \n",
       "3     Foot Locker      1185732   2020-01-04  Northeast       New York   \n",
       "4     Foot Locker      1185732   2020-01-05  Northeast       New York   \n",
       "...           ...          ...          ...        ...            ...   \n",
       "9643  Foot Locker      1185732   2021-01-24  Northeast  New Hampshire   \n",
       "9644  Foot Locker      1185732   2021-01-24  Northeast  New Hampshire   \n",
       "9645  Foot Locker      1185732   2021-02-22  Northeast  New Hampshire   \n",
       "9646  Foot Locker      1185732   2021-02-22  Northeast  New Hampshire   \n",
       "9647  Foot Locker      1185732   2021-02-22  Northeast  New Hampshire   \n",
       "\n",
       "            City                    Product  Price per Unit  Units Sold  \\\n",
       "0       New York      Men's Street Footwear            50.0        1200   \n",
       "1       New York    Men's Athletic Footwear            50.0        1000   \n",
       "2       New York    Women's Street Footwear            40.0        1000   \n",
       "3       New York  Women's Athletic Footwear            45.0         850   \n",
       "4       New York              Men's Apparel            60.0         900   \n",
       "...          ...                        ...             ...         ...   \n",
       "9643  Manchester              Men's Apparel            50.0          64   \n",
       "9644  Manchester            Women's Apparel            41.0         105   \n",
       "9645  Manchester      Men's Street Footwear            41.0         184   \n",
       "9646  Manchester    Men's Athletic Footwear            42.0          70   \n",
       "9647  Manchester    Women's Street Footwear            29.0          83   \n",
       "\n",
       "      Total Sales  Operating Profit  Operating Margin Sales Method  \n",
       "0        600000.0         300000.00              0.50     In-store  \n",
       "1        500000.0         150000.00              0.30     In-store  \n",
       "2        400000.0         140000.00              0.35     In-store  \n",
       "3        382500.0         133875.00              0.35     In-store  \n",
       "4        540000.0         162000.00              0.30     In-store  \n",
       "...           ...               ...               ...          ...  \n",
       "9643       3200.0            896.00              0.28       Outlet  \n",
       "9644       4305.0           1377.60              0.32       Outlet  \n",
       "9645       7544.0           2791.28              0.37       Outlet  \n",
       "9646       2940.0           1234.80              0.42       Outlet  \n",
       "9647       2407.0            649.89              0.27       Outlet  \n",
       "\n",
       "[9648 rows x 13 columns]"
      ]
     },
     "execution_count": 5,
     "metadata": {},
     "output_type": "execute_result"
    }
   ],
   "source": [
    "df"
   ]
  },
  {
   "cell_type": "code",
   "execution_count": 6,
   "id": "8420f4aa",
   "metadata": {},
   "outputs": [
    {
     "data": {
      "text/plain": [
       "125424"
      ]
     },
     "execution_count": 6,
     "metadata": {},
     "output_type": "execute_result"
    }
   ],
   "source": [
    "df.size"
   ]
  },
  {
   "cell_type": "code",
   "execution_count": 7,
   "id": "3ed60005",
   "metadata": {},
   "outputs": [
    {
     "name": "stdout",
     "output_type": "stream",
     "text": [
      "<class 'pandas.core.frame.DataFrame'>\n",
      "RangeIndex: 9648 entries, 0 to 9647\n",
      "Data columns (total 13 columns):\n",
      " #   Column            Non-Null Count  Dtype         \n",
      "---  ------            --------------  -----         \n",
      " 0   Retailer          9648 non-null   object        \n",
      " 1   Retailer ID       9648 non-null   int64         \n",
      " 2   Invoice Date      9648 non-null   datetime64[ns]\n",
      " 3   Region            9648 non-null   object        \n",
      " 4   State             9648 non-null   object        \n",
      " 5   City              9648 non-null   object        \n",
      " 6   Product           9648 non-null   object        \n",
      " 7   Price per Unit    9648 non-null   float64       \n",
      " 8   Units Sold        9648 non-null   int64         \n",
      " 9   Total Sales       9648 non-null   float64       \n",
      " 10  Operating Profit  9648 non-null   float64       \n",
      " 11  Operating Margin  9648 non-null   float64       \n",
      " 12  Sales Method      9648 non-null   object        \n",
      "dtypes: datetime64[ns](1), float64(4), int64(2), object(6)\n",
      "memory usage: 980.0+ KB\n"
     ]
    }
   ],
   "source": [
    "df.info()"
   ]
  },
  {
   "cell_type": "markdown",
   "id": "8329bbe7",
   "metadata": {},
   "source": [
    "##### Missing values"
   ]
  },
  {
   "cell_type": "code",
   "execution_count": 8,
   "id": "4947b1a7",
   "metadata": {},
   "outputs": [
    {
     "data": {
      "text/plain": [
       "Retailer            0\n",
       "Retailer ID         0\n",
       "Invoice Date        0\n",
       "Region              0\n",
       "State               0\n",
       "City                0\n",
       "Product             0\n",
       "Price per Unit      0\n",
       "Units Sold          0\n",
       "Total Sales         0\n",
       "Operating Profit    0\n",
       "Operating Margin    0\n",
       "Sales Method        0\n",
       "dtype: int64"
      ]
     },
     "execution_count": 8,
     "metadata": {},
     "output_type": "execute_result"
    }
   ],
   "source": [
    "df.isnull().sum()"
   ]
  },
  {
   "cell_type": "markdown",
   "id": "de114889",
   "metadata": {},
   "source": [
    "There's no null values"
   ]
  },
  {
   "cell_type": "markdown",
   "id": "c261a720",
   "metadata": {},
   "source": [
    " ###### Datatype of columns"
   ]
  },
  {
   "cell_type": "code",
   "execution_count": 9,
   "id": "b437bc45",
   "metadata": {
    "scrolled": true
   },
   "outputs": [
    {
     "data": {
      "text/plain": [
       "Retailer                    object\n",
       "Retailer ID                  int64\n",
       "Invoice Date        datetime64[ns]\n",
       "Region                      object\n",
       "State                       object\n",
       "City                        object\n",
       "Product                     object\n",
       "Price per Unit             float64\n",
       "Units Sold                   int64\n",
       "Total Sales                float64\n",
       "Operating Profit           float64\n",
       "Operating Margin           float64\n",
       "Sales Method                object\n",
       "dtype: object"
      ]
     },
     "execution_count": 9,
     "metadata": {},
     "output_type": "execute_result"
    }
   ],
   "source": [
    "df.dtypes"
   ]
  },
  {
   "cell_type": "markdown",
   "id": "e20718f6",
   "metadata": {},
   "source": [
    "##### dropping unneccesary column"
   ]
  },
  {
   "cell_type": "code",
   "execution_count": 10,
   "id": "f2c57455",
   "metadata": {},
   "outputs": [],
   "source": [
    "df= df.drop(\"Retailer ID\",axis = 1)"
   ]
  },
  {
   "cell_type": "markdown",
   "id": "4d93a87b",
   "metadata": {},
   "source": [
    "###### Renaming the column"
   ]
  },
  {
   "cell_type": "code",
   "execution_count": 11,
   "id": "124c1182",
   "metadata": {},
   "outputs": [],
   "source": [
    "df = df.rename(columns = {\"Units Sold\": \"Quantity\",\"Operating Profit\":\"profit\" })"
   ]
  },
  {
   "cell_type": "markdown",
   "id": "a245863e",
   "metadata": {},
   "source": [
    "##### Extracting month name and year column from invoice date"
   ]
  },
  {
   "cell_type": "code",
   "execution_count": 12,
   "id": "ecac6cea",
   "metadata": {},
   "outputs": [],
   "source": [
    "df['Month'] = df['Invoice Date'].dt.month_name().str[:3]"
   ]
  },
  {
   "cell_type": "code",
   "execution_count": 13,
   "id": "8b6d5f66",
   "metadata": {},
   "outputs": [],
   "source": [
    "df['year']=df['Invoice Date'].dt.year"
   ]
  },
  {
   "cell_type": "markdown",
   "id": "15d775d8",
   "metadata": {},
   "source": [
    "##### statistical summary "
   ]
  },
  {
   "cell_type": "code",
   "execution_count": 14,
   "id": "56f9f9da",
   "metadata": {},
   "outputs": [
    {
     "data": {
      "text/html": [
       "<div>\n",
       "<style scoped>\n",
       "    .dataframe tbody tr th:only-of-type {\n",
       "        vertical-align: middle;\n",
       "    }\n",
       "\n",
       "    .dataframe tbody tr th {\n",
       "        vertical-align: top;\n",
       "    }\n",
       "\n",
       "    .dataframe thead th {\n",
       "        text-align: right;\n",
       "    }\n",
       "</style>\n",
       "<table border=\"1\" class=\"dataframe\">\n",
       "  <thead>\n",
       "    <tr style=\"text-align: right;\">\n",
       "      <th></th>\n",
       "      <th>Price per Unit</th>\n",
       "      <th>Quantity</th>\n",
       "      <th>Total Sales</th>\n",
       "      <th>profit</th>\n",
       "      <th>Operating Margin</th>\n",
       "      <th>year</th>\n",
       "    </tr>\n",
       "  </thead>\n",
       "  <tbody>\n",
       "    <tr>\n",
       "      <th>count</th>\n",
       "      <td>9648.000000</td>\n",
       "      <td>9648.000000</td>\n",
       "      <td>9648.000000</td>\n",
       "      <td>9648.000000</td>\n",
       "      <td>9648.000000</td>\n",
       "      <td>9648.000000</td>\n",
       "    </tr>\n",
       "    <tr>\n",
       "      <th>mean</th>\n",
       "      <td>45.216625</td>\n",
       "      <td>256.930037</td>\n",
       "      <td>93273.437500</td>\n",
       "      <td>34425.244761</td>\n",
       "      <td>0.422991</td>\n",
       "      <td>2020.865050</td>\n",
       "    </tr>\n",
       "    <tr>\n",
       "      <th>std</th>\n",
       "      <td>14.705397</td>\n",
       "      <td>214.252030</td>\n",
       "      <td>141916.016727</td>\n",
       "      <td>54193.113713</td>\n",
       "      <td>0.097197</td>\n",
       "      <td>0.341688</td>\n",
       "    </tr>\n",
       "    <tr>\n",
       "      <th>min</th>\n",
       "      <td>7.000000</td>\n",
       "      <td>0.000000</td>\n",
       "      <td>0.000000</td>\n",
       "      <td>0.000000</td>\n",
       "      <td>0.100000</td>\n",
       "      <td>2020.000000</td>\n",
       "    </tr>\n",
       "    <tr>\n",
       "      <th>25%</th>\n",
       "      <td>35.000000</td>\n",
       "      <td>106.000000</td>\n",
       "      <td>4254.500000</td>\n",
       "      <td>1921.752500</td>\n",
       "      <td>0.350000</td>\n",
       "      <td>2021.000000</td>\n",
       "    </tr>\n",
       "    <tr>\n",
       "      <th>50%</th>\n",
       "      <td>45.000000</td>\n",
       "      <td>176.000000</td>\n",
       "      <td>9576.000000</td>\n",
       "      <td>4371.420000</td>\n",
       "      <td>0.410000</td>\n",
       "      <td>2021.000000</td>\n",
       "    </tr>\n",
       "    <tr>\n",
       "      <th>75%</th>\n",
       "      <td>55.000000</td>\n",
       "      <td>350.000000</td>\n",
       "      <td>150000.000000</td>\n",
       "      <td>52062.500000</td>\n",
       "      <td>0.490000</td>\n",
       "      <td>2021.000000</td>\n",
       "    </tr>\n",
       "    <tr>\n",
       "      <th>max</th>\n",
       "      <td>110.000000</td>\n",
       "      <td>1275.000000</td>\n",
       "      <td>825000.000000</td>\n",
       "      <td>390000.000000</td>\n",
       "      <td>0.800000</td>\n",
       "      <td>2021.000000</td>\n",
       "    </tr>\n",
       "  </tbody>\n",
       "</table>\n",
       "</div>"
      ],
      "text/plain": [
       "       Price per Unit     Quantity    Total Sales         profit  \\\n",
       "count     9648.000000  9648.000000    9648.000000    9648.000000   \n",
       "mean        45.216625   256.930037   93273.437500   34425.244761   \n",
       "std         14.705397   214.252030  141916.016727   54193.113713   \n",
       "min          7.000000     0.000000       0.000000       0.000000   \n",
       "25%         35.000000   106.000000    4254.500000    1921.752500   \n",
       "50%         45.000000   176.000000    9576.000000    4371.420000   \n",
       "75%         55.000000   350.000000  150000.000000   52062.500000   \n",
       "max        110.000000  1275.000000  825000.000000  390000.000000   \n",
       "\n",
       "       Operating Margin         year  \n",
       "count       9648.000000  9648.000000  \n",
       "mean           0.422991  2020.865050  \n",
       "std            0.097197     0.341688  \n",
       "min            0.100000  2020.000000  \n",
       "25%            0.350000  2021.000000  \n",
       "50%            0.410000  2021.000000  \n",
       "75%            0.490000  2021.000000  \n",
       "max            0.800000  2021.000000  "
      ]
     },
     "execution_count": 14,
     "metadata": {},
     "output_type": "execute_result"
    }
   ],
   "source": [
    "df.describe()"
   ]
  },
  {
   "cell_type": "code",
   "execution_count": 15,
   "id": "823c6608",
   "metadata": {},
   "outputs": [
    {
     "data": {
      "text/plain": [
       "Retailer     \n",
       "Foot Locker      2637\n",
       "West Gear        2374\n",
       "Sports Direct    2032\n",
       "Kohl's           1030\n",
       "Amazon            949\n",
       "Walmart           626\n",
       "dtype: int64"
      ]
     },
     "execution_count": 15,
     "metadata": {},
     "output_type": "execute_result"
    }
   ],
   "source": [
    "df[['Retailer']].value_counts()"
   ]
  },
  {
   "cell_type": "markdown",
   "id": "e5aff0dc",
   "metadata": {},
   "source": [
    "##### We are done with the cleaning part.\n",
    "\n",
    "### Data Analysis:"
   ]
  },
  {
   "cell_type": "markdown",
   "id": "e15b279f",
   "metadata": {},
   "source": [
    "- **Which products have the highest sales figures**"
   ]
  },
  {
   "cell_type": "code",
   "execution_count": 16,
   "id": "1960e446",
   "metadata": {},
   "outputs": [
    {
     "data": {
      "text/html": [
       "<div>\n",
       "<style scoped>\n",
       "    .dataframe tbody tr th:only-of-type {\n",
       "        vertical-align: middle;\n",
       "    }\n",
       "\n",
       "    .dataframe tbody tr th {\n",
       "        vertical-align: top;\n",
       "    }\n",
       "\n",
       "    .dataframe thead th {\n",
       "        text-align: right;\n",
       "    }\n",
       "</style>\n",
       "<table border=\"1\" class=\"dataframe\">\n",
       "  <thead>\n",
       "    <tr style=\"text-align: right;\">\n",
       "      <th></th>\n",
       "      <th>Product</th>\n",
       "      <th>Total Sales</th>\n",
       "    </tr>\n",
       "  </thead>\n",
       "  <tbody>\n",
       "    <tr>\n",
       "      <th>0</th>\n",
       "      <td>Men's Street Footwear</td>\n",
       "      <td>208826244.0</td>\n",
       "    </tr>\n",
       "    <tr>\n",
       "      <th>1</th>\n",
       "      <td>Women's Apparel</td>\n",
       "      <td>179038860.0</td>\n",
       "    </tr>\n",
       "    <tr>\n",
       "      <th>2</th>\n",
       "      <td>Men's Athletic Footwear</td>\n",
       "      <td>153673680.0</td>\n",
       "    </tr>\n",
       "    <tr>\n",
       "      <th>3</th>\n",
       "      <td>Women's Street Footwear</td>\n",
       "      <td>128002813.0</td>\n",
       "    </tr>\n",
       "    <tr>\n",
       "      <th>4</th>\n",
       "      <td>Men's Apparel</td>\n",
       "      <td>123728632.0</td>\n",
       "    </tr>\n",
       "    <tr>\n",
       "      <th>5</th>\n",
       "      <td>Women's Athletic Footwear</td>\n",
       "      <td>106631896.0</td>\n",
       "    </tr>\n",
       "  </tbody>\n",
       "</table>\n",
       "</div>"
      ],
      "text/plain": [
       "                     Product  Total Sales\n",
       "0      Men's Street Footwear  208826244.0\n",
       "1            Women's Apparel  179038860.0\n",
       "2    Men's Athletic Footwear  153673680.0\n",
       "3    Women's Street Footwear  128002813.0\n",
       "4              Men's Apparel  123728632.0\n",
       "5  Women's Athletic Footwear  106631896.0"
      ]
     },
     "execution_count": 16,
     "metadata": {},
     "output_type": "execute_result"
    }
   ],
   "source": [
    "top_products = df.groupby('Product')['Total Sales'].sum().sort_values(ascending = False).reset_index()\n",
    "top_products"
   ]
  },
  {
   "cell_type": "code",
   "execution_count": 17,
   "id": "87e34fdf",
   "metadata": {},
   "outputs": [
    {
     "data": {
      "text/plain": [
       "Text(0.5, 1.0, 'Top selling Product')"
      ]
     },
     "execution_count": 17,
     "metadata": {},
     "output_type": "execute_result"
    },
    {
     "data": {
      "image/png": "[encoded data removed]",
      "text/plain": [
       "<Figure size 648x360 with 1 Axes>"
      ]
     },
     "metadata": {
      "needs_background": "light"
     },
     "output_type": "display_data"
    }
   ],
   "source": [
    "plt.figure(figsize=(9,5))\n",
    "sns.barplot(data = top_products, x= 'Product',y= 'Total Sales',color = 'pink')\n",
    "plt.xticks(rotation=90)\n",
    "plt.title(\"Top selling Product\",size=15,)\n",
    "\n",
    "# plt.figure(figsize=(10,5))\n",
    "# sns.barplot(data=top_products,x='Product',y='Total Sales')\n",
    "# plt.xticks(rotation=90)"
   ]
  },
  {
   "cell_type": "markdown",
   "id": "79dab054",
   "metadata": {},
   "source": [
    "#### Correlation Analysis\n",
    "* **Is there any correlation between product price and sales?**\n"
   ]
  },
  {
   "cell_type": "code",
   "execution_count": 18,
   "id": "a37e992e",
   "metadata": {},
   "outputs": [
    {
     "data": {
      "text/plain": [
       "Text(0.5, 1.0, 'Correlation Matrix')"
      ]
     },
     "execution_count": 18,
     "metadata": {},
     "output_type": "execute_result"
    },
    {
     "data": {
      "image/png": "[encoded data removed]",
      "text/plain": [
       "<Figure size 720x432 with 2 Axes>"
      ]
     },
     "metadata": {
      "needs_background": "light"
     },
     "output_type": "display_data"
    }
   ],
   "source": [
    "plt.figure(figsize=(10, 6))\n",
    "sns.heatmap(df.corr(), cmap=\"crest\", annot=True)  \n",
    "plt.title(\"Correlation Matrix\")"
   ]
  },
  {
   "cell_type": "markdown",
   "id": "bf7c037f",
   "metadata": {},
   "source": [
    "- Quantity, Total sales and profits are highly correlated to each other. **Lets look deeper into these three to get more clear image**."
   ]
  },
  {
   "cell_type": "code",
   "execution_count": 19,
   "id": "d1900f08",
   "metadata": {},
   "outputs": [
    {
     "data": {
      "image/png": "[encoded data removed]",
      "text/plain": [
       "<Figure size 288x216 with 2 Axes>"
      ]
     },
     "metadata": {
      "needs_background": "light"
     },
     "output_type": "display_data"
    }
   ],
   "source": [
    "correlation_matrix = df[['Quantity', 'Total Sales', 'profit']].corr()\n",
    "plt.figure(figsize=(4, 3))\n",
    "sns.heatmap(correlation_matrix, annot=True, cmap=\"crest\")\n",
    "plt.title(\"Correlation Matrix\")\n",
    "plt.show()"
   ]
  },
  {
   "cell_type": "markdown",
   "id": "fd0c1e24",
   "metadata": {},
   "source": [
    "- All three coefficients are close to *1* indicates a **strong positive correlation**."
   ]
  },
  {
   "cell_type": "markdown",
   "id": "3b6de77d",
   "metadata": {},
   "source": [
    "* **Which regions have the highest sales?**"
   ]
  },
  {
   "cell_type": "code",
   "execution_count": 20,
   "id": "0d92b2ba",
   "metadata": {},
   "outputs": [],
   "source": [
    "Region_highest_sales = df.groupby(['Region', 'Product'])[['Total Sales', 'profit']].sum().sort_values(by=['Total Sales', 'profit'], ascending=False)"
   ]
  },
  {
   "cell_type": "code",
   "execution_count": 21,
   "id": "a4dcb522",
   "metadata": {},
   "outputs": [
    {
     "data": {
      "text/html": [
       "<div>\n",
       "<style scoped>\n",
       "    .dataframe tbody tr th:only-of-type {\n",
       "        vertical-align: middle;\n",
       "    }\n",
       "\n",
       "    .dataframe tbody tr th {\n",
       "        vertical-align: top;\n",
       "    }\n",
       "\n",
       "    .dataframe thead th {\n",
       "        text-align: right;\n",
       "    }\n",
       "</style>\n",
       "<table border=\"1\" class=\"dataframe\">\n",
       "  <thead>\n",
       "    <tr style=\"text-align: right;\">\n",
       "      <th></th>\n",
       "      <th></th>\n",
       "      <th>Total Sales</th>\n",
       "      <th>profit</th>\n",
       "    </tr>\n",
       "    <tr>\n",
       "      <th>Region</th>\n",
       "      <th>Product</th>\n",
       "      <th></th>\n",
       "      <th></th>\n",
       "    </tr>\n",
       "  </thead>\n",
       "  <tbody>\n",
       "    <tr>\n",
       "      <th rowspan=\"2\" valign=\"top\">West</th>\n",
       "      <th>Men's Street Footwear</th>\n",
       "      <td>55014613.0</td>\n",
       "      <td>20317868.04</td>\n",
       "    </tr>\n",
       "    <tr>\n",
       "      <th>Women's Apparel</th>\n",
       "      <td>52191046.0</td>\n",
       "      <td>14292045.88</td>\n",
       "    </tr>\n",
       "    <tr>\n",
       "      <th>Northeast</th>\n",
       "      <th>Men's Street Footwear</th>\n",
       "      <td>51025024.0</td>\n",
       "      <td>21356317.22</td>\n",
       "    </tr>\n",
       "    <tr>\n",
       "      <th rowspan=\"2\" valign=\"top\">West</th>\n",
       "      <th>Men's Athletic Footwear</th>\n",
       "      <td>50006339.0</td>\n",
       "      <td>14681535.85</td>\n",
       "    </tr>\n",
       "    <tr>\n",
       "      <th>Women's Street Footwear</th>\n",
       "      <td>42520111.0</td>\n",
       "      <td>14747209.09</td>\n",
       "    </tr>\n",
       "    <tr>\n",
       "      <th>Midwest</th>\n",
       "      <th>Men's Street Footwear</th>\n",
       "      <td>38322810.0</td>\n",
       "      <td>14997372.71</td>\n",
       "    </tr>\n",
       "    <tr>\n",
       "      <th>Northeast</th>\n",
       "      <th>Women's Apparel</th>\n",
       "      <td>37543083.0</td>\n",
       "      <td>13499220.79</td>\n",
       "    </tr>\n",
       "    <tr>\n",
       "      <th>Southeast</th>\n",
       "      <th>Men's Street Footwear</th>\n",
       "      <td>36019236.0</td>\n",
       "      <td>14622841.99</td>\n",
       "    </tr>\n",
       "    <tr>\n",
       "      <th rowspan=\"2\" valign=\"top\">West</th>\n",
       "      <th>Men's Apparel</th>\n",
       "      <td>35694003.0</td>\n",
       "      <td>13838873.69</td>\n",
       "    </tr>\n",
       "    <tr>\n",
       "      <th>Women's Athletic Footwear</th>\n",
       "      <td>34517070.0</td>\n",
       "      <td>11731874.00</td>\n",
       "    </tr>\n",
       "    <tr>\n",
       "      <th>Southeast</th>\n",
       "      <th>Women's Apparel</th>\n",
       "      <td>31491161.0</td>\n",
       "      <td>13879544.95</td>\n",
       "    </tr>\n",
       "    <tr>\n",
       "      <th>South</th>\n",
       "      <th>Women's Apparel</th>\n",
       "      <td>29607187.0</td>\n",
       "      <td>14655080.77</td>\n",
       "    </tr>\n",
       "    <tr>\n",
       "      <th>Northeast</th>\n",
       "      <th>Men's Athletic Footwear</th>\n",
       "      <td>28874237.0</td>\n",
       "      <td>10250669.64</td>\n",
       "    </tr>\n",
       "    <tr>\n",
       "      <th>South</th>\n",
       "      <th>Men's Street Footwear</th>\n",
       "      <td>28444561.0</td>\n",
       "      <td>11507860.66</td>\n",
       "    </tr>\n",
       "    <tr>\n",
       "      <th>Midwest</th>\n",
       "      <th>Women's Apparel</th>\n",
       "      <td>28206383.0</td>\n",
       "      <td>12325078.17</td>\n",
       "    </tr>\n",
       "    <tr>\n",
       "      <th>Southeast</th>\n",
       "      <th>Men's Athletic Footwear</th>\n",
       "      <td>27777020.0</td>\n",
       "      <td>9516266.54</td>\n",
       "    </tr>\n",
       "    <tr>\n",
       "      <th>Northeast</th>\n",
       "      <th>Men's Apparel</th>\n",
       "      <td>25744412.0</td>\n",
       "      <td>8161542.33</td>\n",
       "    </tr>\n",
       "    <tr>\n",
       "      <th>South</th>\n",
       "      <th>Men's Athletic Footwear</th>\n",
       "      <td>25710545.0</td>\n",
       "      <td>9991601.73</td>\n",
       "    </tr>\n",
       "    <tr>\n",
       "      <th>Southeast</th>\n",
       "      <th>Men's Apparel</th>\n",
       "      <td>24461487.0</td>\n",
       "      <td>8284084.20</td>\n",
       "    </tr>\n",
       "    <tr>\n",
       "      <th>Northeast</th>\n",
       "      <th>Women's Street Footwear</th>\n",
       "      <td>23341173.0</td>\n",
       "      <td>7956707.19</td>\n",
       "    </tr>\n",
       "    <tr>\n",
       "      <th>Southeast</th>\n",
       "      <th>Women's Street Footwear</th>\n",
       "      <td>23119534.0</td>\n",
       "      <td>7330155.59</td>\n",
       "    </tr>\n",
       "    <tr>\n",
       "      <th>South</th>\n",
       "      <th>Women's Street Footwear</th>\n",
       "      <td>22777097.0</td>\n",
       "      <td>9256077.29</td>\n",
       "    </tr>\n",
       "    <tr>\n",
       "      <th>Midwest</th>\n",
       "      <th>Men's Athletic Footwear</th>\n",
       "      <td>21305539.0</td>\n",
       "      <td>7406814.43</td>\n",
       "    </tr>\n",
       "    <tr>\n",
       "      <th>Southeast</th>\n",
       "      <th>Women's Athletic Footwear</th>\n",
       "      <td>20302798.0</td>\n",
       "      <td>6922523.43</td>\n",
       "    </tr>\n",
       "    <tr>\n",
       "      <th>Northeast</th>\n",
       "      <th>Women's Athletic Footwear</th>\n",
       "      <td>19796138.0</td>\n",
       "      <td>6796130.48</td>\n",
       "    </tr>\n",
       "    <tr>\n",
       "      <th rowspan=\"2\" valign=\"top\">South</th>\n",
       "      <th>Men's Apparel</th>\n",
       "      <td>19703069.0</td>\n",
       "      <td>7246000.79</td>\n",
       "    </tr>\n",
       "    <tr>\n",
       "      <th>Women's Athletic Footwear</th>\n",
       "      <td>18420722.0</td>\n",
       "      <td>8481382.83</td>\n",
       "    </tr>\n",
       "    <tr>\n",
       "      <th rowspan=\"3\" valign=\"top\">Midwest</th>\n",
       "      <th>Men's Apparel</th>\n",
       "      <td>18125661.0</td>\n",
       "      <td>7232529.32</td>\n",
       "    </tr>\n",
       "    <tr>\n",
       "      <th>Women's Street Footwear</th>\n",
       "      <td>16244898.0</td>\n",
       "      <td>5805677.65</td>\n",
       "    </tr>\n",
       "    <tr>\n",
       "      <th>Women's Athletic Footwear</th>\n",
       "      <td>13595168.0</td>\n",
       "      <td>5043874.20</td>\n",
       "    </tr>\n",
       "  </tbody>\n",
       "</table>\n",
       "</div>"
      ],
      "text/plain": [
       "                                     Total Sales       profit\n",
       "Region    Product                                            \n",
       "West      Men's Street Footwear       55014613.0  20317868.04\n",
       "          Women's Apparel             52191046.0  14292045.88\n",
       "Northeast Men's Street Footwear       51025024.0  21356317.22\n",
       "West      Men's Athletic Footwear     50006339.0  14681535.85\n",
       "          Women's Street Footwear     42520111.0  14747209.09\n",
       "Midwest   Men's Street Footwear       38322810.0  14997372.71\n",
       "Northeast Women's Apparel             37543083.0  13499220.79\n",
       "Southeast Men's Street Footwear       36019236.0  14622841.99\n",
       "West      Men's Apparel               35694003.0  13838873.69\n",
       "          Women's Athletic Footwear   34517070.0  11731874.00\n",
       "Southeast Women's Apparel             31491161.0  13879544.95\n",
       "South     Women's Apparel             29607187.0  14655080.77\n",
       "Northeast Men's Athletic Footwear     28874237.0  10250669.64\n",
       "South     Men's Street Footwear       28444561.0  11507860.66\n",
       "Midwest   Women's Apparel             28206383.0  12325078.17\n",
       "Southeast Men's Athletic Footwear     27777020.0   9516266.54\n",
       "Northeast Men's Apparel               25744412.0   8161542.33\n",
       "South     Men's Athletic Footwear     25710545.0   9991601.73\n",
       "Southeast Men's Apparel               24461487.0   8284084.20\n",
       "Northeast Women's Street Footwear     23341173.0   7956707.19\n",
       "Southeast Women's Street Footwear     23119534.0   7330155.59\n",
       "South     Women's Street Footwear     22777097.0   9256077.29\n",
       "Midwest   Men's Athletic Footwear     21305539.0   7406814.43\n",
       "Southeast Women's Athletic Footwear   20302798.0   6922523.43\n",
       "Northeast Women's Athletic Footwear   19796138.0   6796130.48\n",
       "South     Men's Apparel               19703069.0   7246000.79\n",
       "          Women's Athletic Footwear   18420722.0   8481382.83\n",
       "Midwest   Men's Apparel               18125661.0   7232529.32\n",
       "          Women's Street Footwear     16244898.0   5805677.65\n",
       "          Women's Athletic Footwear   13595168.0   5043874.20"
      ]
     },
     "execution_count": 21,
     "metadata": {},
     "output_type": "execute_result"
    }
   ],
   "source": [
    "  Region_highest_sales"
   ]
  },
  {
   "cell_type": "code",
   "execution_count": 37,
   "id": "dcf99282",
   "metadata": {},
   "outputs": [
    {
     "data": {
      "image/png": "[encoded data removed]",
      "text/plain": [
       "<Figure size 1296x504 with 1 Axes>"
      ]
     },
     "metadata": {
      "needs_background": "light"
     },
     "output_type": "display_data"
    }
   ],
   "source": [
    "plt.figure(figsize = (18,7))\n",
    "sns.barplot(x='Region' , y= 'Total Sales' , hue = 'Product' , data = df, palette = 'PuRd')\n",
    "plt.title('Region highest sales',fontsize=15)\n",
    "plt.xlabel('Region')\n",
    "plt.ylabel('Sales (in thousands)')\n",
    "plt.show()"
   ]
  },
  {
   "cell_type": "markdown",
   "id": "98bf2a65",
   "metadata": {},
   "source": [
    "* The highest sales of occured in **southeast region** which is **Men's street footwear**."
   ]
  },
  {
   "cell_type": "markdown",
   "id": "d8442ae8",
   "metadata": {},
   "source": [
    "* **Most used Sales Method**"
   ]
  },
  {
   "cell_type": "code",
   "execution_count": 23,
   "id": "91c15133",
   "metadata": {},
   "outputs": [
    {
     "data": {
      "text/plain": [
       "Text(0.5, 1.0, 'Sales Method')"
      ]
     },
     "execution_count": 23,
     "metadata": {},
     "output_type": "execute_result"
    },
    {
     "data": {
      "image/png": "[encoded data removed]",
      "text/plain": [
       "<Figure size 432x288 with 1 Axes>"
      ]
     },
     "metadata": {
      "needs_background": "light"
     },
     "output_type": "display_data"
    }
   ],
   "source": [
    "sns.countplot(data=df, x='Sales Method', palette='Blues')\n",
    "plt.title(\"Sales Method\",size = 14)"
   ]
  },
  {
   "cell_type": "markdown",
   "id": "07466bca",
   "metadata": {},
   "source": [
    "* We can see most people prefer **online method**."
   ]
  },
  {
   "cell_type": "markdown",
   "id": "9d6011db",
   "metadata": {},
   "source": [
    "* **Who are the top retailers**."
   ]
  },
  {
   "cell_type": "code",
   "execution_count": 24,
   "id": "fd8b8704",
   "metadata": {},
   "outputs": [],
   "source": [
    "top_reatiler = df.groupby('Retailer')['profit'].sum().sort_values(ascending = False).reset_index()"
   ]
  },
  {
   "cell_type": "code",
   "execution_count": 25,
   "id": "cc7f4edd",
   "metadata": {},
   "outputs": [
    {
     "data": {
      "text/html": [
       "<div>\n",
       "<style scoped>\n",
       "    .dataframe tbody tr th:only-of-type {\n",
       "        vertical-align: middle;\n",
       "    }\n",
       "\n",
       "    .dataframe tbody tr th {\n",
       "        vertical-align: top;\n",
       "    }\n",
       "\n",
       "    .dataframe thead th {\n",
       "        text-align: right;\n",
       "    }\n",
       "</style>\n",
       "<table border=\"1\" class=\"dataframe\">\n",
       "  <thead>\n",
       "    <tr style=\"text-align: right;\">\n",
       "      <th></th>\n",
       "      <th>Retailer</th>\n",
       "      <th>profit</th>\n",
       "    </tr>\n",
       "  </thead>\n",
       "  <tbody>\n",
       "    <tr>\n",
       "      <th>0</th>\n",
       "      <td>West Gear</td>\n",
       "      <td>85667873.18</td>\n",
       "    </tr>\n",
       "    <tr>\n",
       "      <th>1</th>\n",
       "      <td>Foot Locker</td>\n",
       "      <td>80722124.81</td>\n",
       "    </tr>\n",
       "    <tr>\n",
       "      <th>2</th>\n",
       "      <td>Sports Direct</td>\n",
       "      <td>74332954.96</td>\n",
       "    </tr>\n",
       "    <tr>\n",
       "      <th>3</th>\n",
       "      <td>Kohl's</td>\n",
       "      <td>36811252.58</td>\n",
       "    </tr>\n",
       "    <tr>\n",
       "      <th>4</th>\n",
       "      <td>Amazon</td>\n",
       "      <td>28818503.31</td>\n",
       "    </tr>\n",
       "    <tr>\n",
       "      <th>5</th>\n",
       "      <td>Walmart</td>\n",
       "      <td>25782052.61</td>\n",
       "    </tr>\n",
       "  </tbody>\n",
       "</table>\n",
       "</div>"
      ],
      "text/plain": [
       "        Retailer       profit\n",
       "0      West Gear  85667873.18\n",
       "1    Foot Locker  80722124.81\n",
       "2  Sports Direct  74332954.96\n",
       "3         Kohl's  36811252.58\n",
       "4         Amazon  28818503.31\n",
       "5        Walmart  25782052.61"
      ]
     },
     "execution_count": 25,
     "metadata": {},
     "output_type": "execute_result"
    }
   ],
   "source": [
    "top_reatiler"
   ]
  },
  {
   "cell_type": "markdown",
   "id": "bcc42614",
   "metadata": {},
   "source": [
    "* Now we will plot this for better understanding"
   ]
  },
  {
   "cell_type": "code",
   "execution_count": 26,
   "id": "6c1057d4",
   "metadata": {},
   "outputs": [
    {
     "data": {
      "image/png": "[encoded data removed]",
      "text/plain": [
       "<Figure size 504x504 with 1 Axes>"
      ]
     },
     "metadata": {
      "needs_background": "light"
     },
     "output_type": "display_data"
    }
   ],
   "source": [
    "plt.figure(figsize=(7,7))\n",
    "sns.barplot(data = top_reatiler , x='profit',y='Retailer',palette = 'Blues_r')\n",
    "plt.title(\"Top Retailers\",size = 14)\n",
    "plt.ylabel('Retailer',weight = 'bold',size=12)\n",
    "plt.xlabel('profit',weight = 'bold',size=12)\n",
    "plt.show()"
   ]
  },
  {
   "cell_type": "markdown",
   "id": "bb94c268",
   "metadata": {},
   "source": [
    "* Top seller is **west Gear** followed by **footlocker**"
   ]
  },
  {
   "cell_type": "markdown",
   "id": "4412d215",
   "metadata": {},
   "source": [
    "* **Which is the Top grossing City?**"
   ]
  },
  {
   "cell_type": "code",
   "execution_count": 27,
   "id": "49751ba3",
   "metadata": {},
   "outputs": [],
   "source": [
    "top_grossing_city = df.groupby('City')['profit'].sum().sort_values(ascending = False).head(10).reset_index()\n",
    "top_grossing_city.index+=1"
   ]
  },
  {
   "cell_type": "code",
   "execution_count": 28,
   "id": "3406a28a",
   "metadata": {},
   "outputs": [
    {
     "data": {
      "text/html": [
       "<div>\n",
       "<style scoped>\n",
       "    .dataframe tbody tr th:only-of-type {\n",
       "        vertical-align: middle;\n",
       "    }\n",
       "\n",
       "    .dataframe tbody tr th {\n",
       "        vertical-align: top;\n",
       "    }\n",
       "\n",
       "    .dataframe thead th {\n",
       "        text-align: right;\n",
       "    }\n",
       "</style>\n",
       "<table border=\"1\" class=\"dataframe\">\n",
       "  <thead>\n",
       "    <tr style=\"text-align: right;\">\n",
       "      <th></th>\n",
       "      <th>City</th>\n",
       "      <th>profit</th>\n",
       "    </tr>\n",
       "  </thead>\n",
       "  <tbody>\n",
       "    <tr>\n",
       "      <th>1</th>\n",
       "      <td>Charleston</td>\n",
       "      <td>15607190.11</td>\n",
       "    </tr>\n",
       "    <tr>\n",
       "      <th>2</th>\n",
       "      <td>New York</td>\n",
       "      <td>13899973.16</td>\n",
       "    </tr>\n",
       "    <tr>\n",
       "      <th>3</th>\n",
       "      <td>Miami</td>\n",
       "      <td>12168619.11</td>\n",
       "    </tr>\n",
       "    <tr>\n",
       "      <th>4</th>\n",
       "      <td>Portland</td>\n",
       "      <td>10760799.37</td>\n",
       "    </tr>\n",
       "    <tr>\n",
       "      <th>5</th>\n",
       "      <td>San Francisco</td>\n",
       "      <td>10256249.56</td>\n",
       "    </tr>\n",
       "    <tr>\n",
       "      <th>6</th>\n",
       "      <td>Houston</td>\n",
       "      <td>9845141.06</td>\n",
       "    </tr>\n",
       "    <tr>\n",
       "      <th>7</th>\n",
       "      <td>Charlotte</td>\n",
       "      <td>9756422.87</td>\n",
       "    </tr>\n",
       "    <tr>\n",
       "      <th>8</th>\n",
       "      <td>Albany</td>\n",
       "      <td>9429850.91</td>\n",
       "    </tr>\n",
       "    <tr>\n",
       "      <th>9</th>\n",
       "      <td>New Orleans</td>\n",
       "      <td>9417233.49</td>\n",
       "    </tr>\n",
       "    <tr>\n",
       "      <th>10</th>\n",
       "      <td>Birmingham</td>\n",
       "      <td>9147581.39</td>\n",
       "    </tr>\n",
       "  </tbody>\n",
       "</table>\n",
       "</div>"
      ],
      "text/plain": [
       "             City       profit\n",
       "1      Charleston  15607190.11\n",
       "2        New York  13899973.16\n",
       "3           Miami  12168619.11\n",
       "4        Portland  10760799.37\n",
       "5   San Francisco  10256249.56\n",
       "6         Houston   9845141.06\n",
       "7       Charlotte   9756422.87\n",
       "8          Albany   9429850.91\n",
       "9     New Orleans   9417233.49\n",
       "10     Birmingham   9147581.39"
      ]
     },
     "execution_count": 28,
     "metadata": {},
     "output_type": "execute_result"
    }
   ],
   "source": [
    "top_grossing_city"
   ]
  },
  {
   "cell_type": "code",
   "execution_count": 29,
   "id": "8d5ef0f2",
   "metadata": {},
   "outputs": [
    {
     "data": {
      "text/plain": [
       "Text(0, 0.5, 'Profit')"
      ]
     },
     "execution_count": 29,
     "metadata": {},
     "output_type": "execute_result"
    },
    {
     "data": {
      "image/png": "[encoded data removed]",
      "text/plain": [
       "<Figure size 864x360 with 1 Axes>"
      ]
     },
     "metadata": {
      "needs_background": "light"
     },
     "output_type": "display_data"
    }
   ],
   "source": [
    "plt.figure(figsize=(12,5))\n",
    "sns.barplot(x='City',y='profit',data=top_grossing_city,palette = 'RdPu')\n",
    "plt.xticks(rotation=90,size= 12)\n",
    "plt.title('Top grossing City',size= 14)\n",
    "plt.xlabel('City',size = 13)\n",
    "plt.ylabel('Profit',size = 13)"
   ]
  },
  {
   "cell_type": "markdown",
   "id": "a6fe6948",
   "metadata": {},
   "source": [
    "**Charleston** and **New york** city is the Top grossing City."
   ]
  },
  {
   "cell_type": "markdown",
   "id": "ae3e0749",
   "metadata": {},
   "source": [
    "* **Which is the Top 5 Profitable state?**"
   ]
  },
  {
   "cell_type": "code",
   "execution_count": 30,
   "id": "fec80f3c",
   "metadata": {},
   "outputs": [
    {
     "data": {
      "text/html": [
       "<div>\n",
       "<style scoped>\n",
       "    .dataframe tbody tr th:only-of-type {\n",
       "        vertical-align: middle;\n",
       "    }\n",
       "\n",
       "    .dataframe tbody tr th {\n",
       "        vertical-align: top;\n",
       "    }\n",
       "\n",
       "    .dataframe thead th {\n",
       "        text-align: right;\n",
       "    }\n",
       "</style>\n",
       "<table border=\"1\" class=\"dataframe\">\n",
       "  <thead>\n",
       "    <tr style=\"text-align: right;\">\n",
       "      <th></th>\n",
       "      <th>State</th>\n",
       "      <th>profit</th>\n",
       "    </tr>\n",
       "  </thead>\n",
       "  <tbody>\n",
       "    <tr>\n",
       "      <th>0</th>\n",
       "      <td>New York</td>\n",
       "      <td>23329824.07</td>\n",
       "    </tr>\n",
       "    <tr>\n",
       "      <th>1</th>\n",
       "      <td>Florida</td>\n",
       "      <td>20926206.92</td>\n",
       "    </tr>\n",
       "    <tr>\n",
       "      <th>2</th>\n",
       "      <td>California</td>\n",
       "      <td>19301170.40</td>\n",
       "    </tr>\n",
       "    <tr>\n",
       "      <th>3</th>\n",
       "      <td>Texas</td>\n",
       "      <td>18688204.35</td>\n",
       "    </tr>\n",
       "    <tr>\n",
       "      <th>4</th>\n",
       "      <td>South Carolina</td>\n",
       "      <td>11324236.39</td>\n",
       "    </tr>\n",
       "  </tbody>\n",
       "</table>\n",
       "</div>"
      ],
      "text/plain": [
       "            State       profit\n",
       "0        New York  23329824.07\n",
       "1         Florida  20926206.92\n",
       "2      California  19301170.40\n",
       "3           Texas  18688204.35\n",
       "4  South Carolina  11324236.39"
      ]
     },
     "execution_count": 30,
     "metadata": {},
     "output_type": "execute_result"
    }
   ],
   "source": [
    "top_profitable_state = df.groupby('State')['profit'].sum().sort_values(ascending = False).reset_index().head(5)\n",
    "top_profitable_state"
   ]
  },
  {
   "cell_type": "code",
   "execution_count": 31,
   "id": "0ba3d878",
   "metadata": {},
   "outputs": [
    {
     "data": {
      "image/png": "[encoded data removed]",
      "text/plain": [
       "<Figure size 864x360 with 1 Axes>"
      ]
     },
     "metadata": {
      "needs_background": "light"
     },
     "output_type": "display_data"
    }
   ],
   "source": [
    "plt.figure(figsize=(12,5))\n",
    "sns.barplot(x='profit', y='State', data=top_profitable_state, palette='YlGn')\n",
    "plt.title('Top 5 Profitable States', fontsize = 15)\n",
    "plt.xlabel('Profit')\n",
    "plt.ylabel('State')\n",
    "plt.show()"
   ]
  },
  {
   "cell_type": "markdown",
   "id": "ada733a8",
   "metadata": {},
   "source": [
    "* **Newyork** is the most profitable city."
   ]
  },
  {
   "cell_type": "markdown",
   "id": "080acd09",
   "metadata": {},
   "source": [
    " * **Monthwise profit**"
   ]
  },
  {
   "cell_type": "code",
   "execution_count": 50,
   "id": "f97cf021",
   "metadata": {},
   "outputs": [
    {
     "data": {
      "text/html": [
       "<div>\n",
       "<style scoped>\n",
       "    .dataframe tbody tr th:only-of-type {\n",
       "        vertical-align: middle;\n",
       "    }\n",
       "\n",
       "    .dataframe tbody tr th {\n",
       "        vertical-align: top;\n",
       "    }\n",
       "\n",
       "    .dataframe thead th {\n",
       "        text-align: right;\n",
       "    }\n",
       "</style>\n",
       "<table border=\"1\" class=\"dataframe\">\n",
       "  <thead>\n",
       "    <tr style=\"text-align: right;\">\n",
       "      <th></th>\n",
       "      <th>profit</th>\n",
       "    </tr>\n",
       "    <tr>\n",
       "      <th>Month</th>\n",
       "      <th></th>\n",
       "    </tr>\n",
       "  </thead>\n",
       "  <tbody>\n",
       "    <tr>\n",
       "      <th>Apr</th>\n",
       "      <td>27559237.31</td>\n",
       "    </tr>\n",
       "    <tr>\n",
       "      <th>Aug</th>\n",
       "      <td>34451440.30</td>\n",
       "    </tr>\n",
       "    <tr>\n",
       "      <th>Dec</th>\n",
       "      <td>31590202.03</td>\n",
       "    </tr>\n",
       "    <tr>\n",
       "      <th>Feb</th>\n",
       "      <td>21392736.70</td>\n",
       "    </tr>\n",
       "    <tr>\n",
       "      <th>Jan</th>\n",
       "      <td>25141934.51</td>\n",
       "    </tr>\n",
       "    <tr>\n",
       "      <th>Jul</th>\n",
       "      <td>34054898.59</td>\n",
       "    </tr>\n",
       "    <tr>\n",
       "      <th>Jun</th>\n",
       "      <td>26714715.92</td>\n",
       "    </tr>\n",
       "    <tr>\n",
       "      <th>Mar</th>\n",
       "      <td>20439788.00</td>\n",
       "    </tr>\n",
       "    <tr>\n",
       "      <th>May</th>\n",
       "      <td>29946255.33</td>\n",
       "    </tr>\n",
       "    <tr>\n",
       "      <th>Nov</th>\n",
       "      <td>24755521.43</td>\n",
       "    </tr>\n",
       "    <tr>\n",
       "      <th>Oct</th>\n",
       "      <td>25078444.60</td>\n",
       "    </tr>\n",
       "    <tr>\n",
       "      <th>Sep</th>\n",
       "      <td>31009586.73</td>\n",
       "    </tr>\n",
       "  </tbody>\n",
       "</table>\n",
       "</div>"
      ],
      "text/plain": [
       "            profit\n",
       "Month             \n",
       "Apr    27559237.31\n",
       "Aug    34451440.30\n",
       "Dec    31590202.03\n",
       "Feb    21392736.70\n",
       "Jan    25141934.51\n",
       "Jul    34054898.59\n",
       "Jun    26714715.92\n",
       "Mar    20439788.00\n",
       "May    29946255.33\n",
       "Nov    24755521.43\n",
       "Oct    25078444.60\n",
       "Sep    31009586.73"
      ]
     },
     "execution_count": 50,
     "metadata": {},
     "output_type": "execute_result"
    }
   ],
   "source": [
    "Monthwise_profit = df.groupby('Month')[['profit']].sum()\n",
    "Monthwise_profit"
   ]
  },
  {
   "cell_type": "code",
   "execution_count": 51,
   "id": "02c94ae1",
   "metadata": {},
   "outputs": [
    {
     "data": {
      "image/png": "[encoded data removed]",
      "text/plain": [
       "<Figure size 864x360 with 1 Axes>"
      ]
     },
     "metadata": {
      "needs_background": "light"
     },
     "output_type": "display_data"
    }
   ],
   "source": [
    "plt.figure(figsize=(12,5))\n",
    "sns.lineplot(x='Month', y='profit', data=Monthwise_profit, color='black', label = 'Profit')\n",
    "plt.title('Month-wise Profit Analysis', fontsize = 14)\n",
    "plt.xlabel('Month',size =13)\n",
    "plt.ylabel('Profit',size =13)\n",
    "plt.show()"
   ]
  },
  {
   "cell_type": "markdown",
   "id": "857613af",
   "metadata": {},
   "source": [
    "* Most Profitable month is **august** and least profitable month is **march**."
   ]
  },
  {
   "cell_type": "markdown",
   "id": "8122261f",
   "metadata": {},
   "source": [
    " * **yearwise product profit**"
   ]
  },
  {
   "cell_type": "code",
   "execution_count": 52,
   "id": "7511624b",
   "metadata": {},
   "outputs": [
    {
     "data": {
      "text/html": [
       "<div>\n",
       "<style scoped>\n",
       "    .dataframe tbody tr th:only-of-type {\n",
       "        vertical-align: middle;\n",
       "    }\n",
       "\n",
       "    .dataframe tbody tr th {\n",
       "        vertical-align: top;\n",
       "    }\n",
       "\n",
       "    .dataframe thead th {\n",
       "        text-align: right;\n",
       "    }\n",
       "</style>\n",
       "<table border=\"1\" class=\"dataframe\">\n",
       "  <thead>\n",
       "    <tr style=\"text-align: right;\">\n",
       "      <th></th>\n",
       "      <th>year</th>\n",
       "      <th>Product</th>\n",
       "      <th>profit</th>\n",
       "    </tr>\n",
       "  </thead>\n",
       "  <tbody>\n",
       "    <tr>\n",
       "      <th>0</th>\n",
       "      <td>2020</td>\n",
       "      <td>Men's Apparel</td>\n",
       "      <td>9660070.37</td>\n",
       "    </tr>\n",
       "    <tr>\n",
       "      <th>1</th>\n",
       "      <td>2020</td>\n",
       "      <td>Men's Athletic Footwear</td>\n",
       "      <td>9359256.91</td>\n",
       "    </tr>\n",
       "    <tr>\n",
       "      <th>2</th>\n",
       "      <td>2020</td>\n",
       "      <td>Men's Street Footwear</td>\n",
       "      <td>15558837.44</td>\n",
       "    </tr>\n",
       "    <tr>\n",
       "      <th>3</th>\n",
       "      <td>2020</td>\n",
       "      <td>Women's Apparel</td>\n",
       "      <td>11302905.22</td>\n",
       "    </tr>\n",
       "    <tr>\n",
       "      <th>4</th>\n",
       "      <td>2020</td>\n",
       "      <td>Women's Athletic Footwear</td>\n",
       "      <td>8290741.17</td>\n",
       "    </tr>\n",
       "    <tr>\n",
       "      <th>5</th>\n",
       "      <td>2020</td>\n",
       "      <td>Women's Street Footwear</td>\n",
       "      <td>9203851.47</td>\n",
       "    </tr>\n",
       "    <tr>\n",
       "      <th>6</th>\n",
       "      <td>2021</td>\n",
       "      <td>Men's Apparel</td>\n",
       "      <td>35102959.96</td>\n",
       "    </tr>\n",
       "    <tr>\n",
       "      <th>7</th>\n",
       "      <td>2021</td>\n",
       "      <td>Men's Athletic Footwear</td>\n",
       "      <td>42487631.28</td>\n",
       "    </tr>\n",
       "    <tr>\n",
       "      <th>8</th>\n",
       "      <td>2021</td>\n",
       "      <td>Men's Street Footwear</td>\n",
       "      <td>67243423.18</td>\n",
       "    </tr>\n",
       "    <tr>\n",
       "      <th>9</th>\n",
       "      <td>2021</td>\n",
       "      <td>Women's Apparel</td>\n",
       "      <td>57348065.34</td>\n",
       "    </tr>\n",
       "    <tr>\n",
       "      <th>10</th>\n",
       "      <td>2021</td>\n",
       "      <td>Women's Athletic Footwear</td>\n",
       "      <td>30685043.77</td>\n",
       "    </tr>\n",
       "    <tr>\n",
       "      <th>11</th>\n",
       "      <td>2021</td>\n",
       "      <td>Women's Street Footwear</td>\n",
       "      <td>35891975.34</td>\n",
       "    </tr>\n",
       "  </tbody>\n",
       "</table>\n",
       "</div>"
      ],
      "text/plain": [
       "    year                    Product       profit\n",
       "0   2020              Men's Apparel   9660070.37\n",
       "1   2020    Men's Athletic Footwear   9359256.91\n",
       "2   2020      Men's Street Footwear  15558837.44\n",
       "3   2020            Women's Apparel  11302905.22\n",
       "4   2020  Women's Athletic Footwear   8290741.17\n",
       "5   2020    Women's Street Footwear   9203851.47\n",
       "6   2021              Men's Apparel  35102959.96\n",
       "7   2021    Men's Athletic Footwear  42487631.28\n",
       "8   2021      Men's Street Footwear  67243423.18\n",
       "9   2021            Women's Apparel  57348065.34\n",
       "10  2021  Women's Athletic Footwear  30685043.77\n",
       "11  2021    Women's Street Footwear  35891975.34"
      ]
     },
     "execution_count": 52,
     "metadata": {},
     "output_type": "execute_result"
    }
   ],
   "source": [
    "yearwise_product_profit = df.groupby(['year', 'Product'])['profit'].sum().reset_index()\n",
    "yearwise_product_profit"
   ]
  },
  {
   "cell_type": "code",
   "execution_count": 62,
   "id": "7afdfa53",
   "metadata": {},
   "outputs": [
    {
     "data": {
      "text/plain": [
       "<Figure size 864x360 with 0 Axes>"
      ]
     },
     "metadata": {},
     "output_type": "display_data"
    },
    {
     "data": {
      "image/png": "[encoded data removed]",
      "text/plain": [
       "<Figure size 1440x720 with 1 Axes>"
      ]
     },
     "metadata": {},
     "output_type": "display_data"
    }
   ],
   "source": [
    "df_pivot = yearwise_product_profit.pivot_table(index='Product', columns='year', values='profit')\n",
    "plt.figure(figsize=(12,5)) \n",
    "df_pivot.plot(kind='bar', stacked=True)\n",
    "\n",
    "plt.title('Product-wise Profit Analysis in Each Year', fontsize = 20)\n",
    "plt.xlabel('Product')\n",
    "plt.ylabel('Profit')\n",
    "plt.legend(title='Year')\n",
    "plt.show()"
   ]
  },
  {
   "cell_type": "markdown",
   "id": "1f6b3314",
   "metadata": {},
   "source": [
    "* Men's Street Footware was the most selling product in 2021 and 2020.\n",
    "* Women's Athletic Footware was the least selling product ."
   ]
  },
  {
   "cell_type": "markdown",
   "id": "9481b224",
   "metadata": {},
   "source": [
    "* **Yearwise retailer sales analysis**"
   ]
  },
  {
   "cell_type": "code",
   "execution_count": 75,
   "id": "a24a35c4",
   "metadata": {},
   "outputs": [],
   "source": [
    "Yearwise_retailer_sales = df.groupby(['year','Retailer'])['Total Sales'].mean().reset_index()"
   ]
  },
  {
   "cell_type": "code",
   "execution_count": 76,
   "id": "8ff6bc73",
   "metadata": {},
   "outputs": [
    {
     "data": {
      "text/html": [
       "<div>\n",
       "<style scoped>\n",
       "    .dataframe tbody tr th:only-of-type {\n",
       "        vertical-align: middle;\n",
       "    }\n",
       "\n",
       "    .dataframe tbody tr th {\n",
       "        vertical-align: top;\n",
       "    }\n",
       "\n",
       "    .dataframe thead th {\n",
       "        text-align: right;\n",
       "    }\n",
       "</style>\n",
       "<table border=\"1\" class=\"dataframe\">\n",
       "  <thead>\n",
       "    <tr style=\"text-align: right;\">\n",
       "      <th></th>\n",
       "      <th>year</th>\n",
       "      <th>Retailer</th>\n",
       "      <th>Total Sales</th>\n",
       "    </tr>\n",
       "  </thead>\n",
       "  <tbody>\n",
       "    <tr>\n",
       "      <th>0</th>\n",
       "      <td>2020</td>\n",
       "      <td>Foot Locker</td>\n",
       "      <td>127230.875371</td>\n",
       "    </tr>\n",
       "    <tr>\n",
       "      <th>1</th>\n",
       "      <td>2020</td>\n",
       "      <td>Kohl's</td>\n",
       "      <td>94812.875000</td>\n",
       "    </tr>\n",
       "    <tr>\n",
       "      <th>2</th>\n",
       "      <td>2020</td>\n",
       "      <td>Sports Direct</td>\n",
       "      <td>143972.650943</td>\n",
       "    </tr>\n",
       "    <tr>\n",
       "      <th>3</th>\n",
       "      <td>2020</td>\n",
       "      <td>Walmart</td>\n",
       "      <td>152245.370370</td>\n",
       "    </tr>\n",
       "    <tr>\n",
       "      <th>4</th>\n",
       "      <td>2020</td>\n",
       "      <td>West Gear</td>\n",
       "      <td>142203.568504</td>\n",
       "    </tr>\n",
       "    <tr>\n",
       "      <th>5</th>\n",
       "      <td>2021</td>\n",
       "      <td>Amazon</td>\n",
       "      <td>81874.512118</td>\n",
       "    </tr>\n",
       "    <tr>\n",
       "      <th>6</th>\n",
       "      <td>2021</td>\n",
       "      <td>Foot Locker</td>\n",
       "      <td>77051.267391</td>\n",
       "    </tr>\n",
       "    <tr>\n",
       "      <th>7</th>\n",
       "      <td>2021</td>\n",
       "      <td>Kohl's</td>\n",
       "      <td>99174.412916</td>\n",
       "    </tr>\n",
       "    <tr>\n",
       "      <th>8</th>\n",
       "      <td>2021</td>\n",
       "      <td>Sports Direct</td>\n",
       "      <td>86817.183801</td>\n",
       "    </tr>\n",
       "    <tr>\n",
       "      <th>9</th>\n",
       "      <td>2021</td>\n",
       "      <td>Walmart</td>\n",
       "      <td>101642.463415</td>\n",
       "    </tr>\n",
       "    <tr>\n",
       "      <th>10</th>\n",
       "      <td>2021</td>\n",
       "      <td>West Gear</td>\n",
       "      <td>87788.997700</td>\n",
       "    </tr>\n",
       "  </tbody>\n",
       "</table>\n",
       "</div>"
      ],
      "text/plain": [
       "    year       Retailer    Total Sales\n",
       "0   2020    Foot Locker  127230.875371\n",
       "1   2020         Kohl's   94812.875000\n",
       "2   2020  Sports Direct  143972.650943\n",
       "3   2020        Walmart  152245.370370\n",
       "4   2020      West Gear  142203.568504\n",
       "5   2021         Amazon   81874.512118\n",
       "6   2021    Foot Locker   77051.267391\n",
       "7   2021         Kohl's   99174.412916\n",
       "8   2021  Sports Direct   86817.183801\n",
       "9   2021        Walmart  101642.463415\n",
       "10  2021      West Gear   87788.997700"
      ]
     },
     "execution_count": 76,
     "metadata": {},
     "output_type": "execute_result"
    }
   ],
   "source": [
    "Yearwise_retailer_sales"
   ]
  },
  {
   "cell_type": "code",
   "execution_count": 83,
   "id": "e18a837e",
   "metadata": {},
   "outputs": [
    {
     "data": {
      "image/png": "[encoded data removed]",
      "text/plain": [
       "<Figure size 864x504 with 1 Axes>"
      ]
     },
     "metadata": {},
     "output_type": "display_data"
    }
   ],
   "source": [
    "plt.figure(figsize=(12,7)) \n",
    "sns.barplot(x='Retailer', y='Total Sales', hue='year', data=Yearwise_retailer_sales, palette='rocket')\n",
    "plt.title('Year-wise Retailer Sales Analysis',fontsize = 15)\n",
    "plt.xlabel('Retailer')\n",
    "plt.ylabel('Sales')\n",
    "plt.legend(title='Year')\n",
    "plt.show()"
   ]
  },
  {
   "cell_type": "markdown",
   "id": "bf46cdf4",
   "metadata": {},
   "source": [
    "* The Retailer - **walmart** contributes the highest Total Sales in both 2020 and 2021"
   ]
  },
  {
   "cell_type": "markdown",
   "id": "fa559d89",
   "metadata": {},
   "source": [
    "### Conclusion"
   ]
  },
  {
   "cell_type": "markdown",
   "id": "d7500cfa",
   "metadata": {},
   "source": [
    "- This project will find how to increase sales its forecast also with the results obtained, the decisions for 2022 will be made."
   ]
  }
 ],
 "metadata": {
  "kernelspec": {
   "display_name": "Python 3 (ipykernel)",
   "language": "python",
   "name": "python3"
  },
  "language_info": {
   "codemirror_mode": {
    "name": "ipython",
    "version": 3
   },
   "file_extension": ".py",
   "mimetype": "text/x-python",
   "name": "python",
   "nbconvert_exporter": "python",
   "pygments_lexer": "ipython3",
   "version": "3.8.10"
  }
 },
 "nbformat": 4,
 "nbformat_minor": 5
}
